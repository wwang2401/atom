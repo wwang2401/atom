{
  "nbformat": 4,
  "nbformat_minor": 0,
  "metadata": {
    "colab": {
      "name": "6.3_matplot-and-seaborn_exercises.ipynb",
      "version": "0.3.2",
      "provenance": [],
      "collapsed_sections": [],
      "include_colab_link": true
    },
    "kernelspec": {
      "name": "python3",
      "display_name": "Python 3"
    }
  },
  "cells": [
    {
      "cell_type": "markdown",
      "metadata": {
        "id": "view-in-github",
        "colab_type": "text"
      },
      "source": [
        "<a href=\"https://colab.research.google.com/github/wwang2401/atom/blob/master/6_3_matplot_and_seaborn_exercises.ipynb\" target=\"_parent\"><img src=\"https://colab.research.google.com/assets/colab-badge.svg\" alt=\"Open In Colab\"/></a>"
      ]
    },
    {
      "metadata": {
        "id": "GCqrSXMqFzcu",
        "colab_type": "code",
        "colab": {}
      },
      "cell_type": "code",
      "source": [
        "import pandas as pd\n",
        "%matplotlib inline\n",
        "import seaborn as sns\n",
        "import numpy as np"
      ],
      "execution_count": 0,
      "outputs": []
    },
    {
      "metadata": {
        "id": "ZCDjRotpFzdB",
        "colab_type": "text"
      },
      "cell_type": "markdown",
      "source": [
        "## Visualize the distribution (histogram) of `x` using `sns.distplot()`."
      ]
    },
    {
      "metadata": {
        "id": "ywz6JmVQFzdH",
        "colab_type": "code",
        "colab": {}
      },
      "cell_type": "code",
      "source": [
        "x = np.random.normal(size=300)"
      ],
      "execution_count": 0,
      "outputs": []
    },
    {
      "metadata": {
        "id": "-nMwRn4vFzdQ",
        "colab_type": "code",
        "colab": {}
      },
      "cell_type": "code",
      "source": [
        ""
      ],
      "execution_count": 0,
      "outputs": []
    },
    {
      "metadata": {
        "id": "uHX7219HFzdc",
        "colab_type": "text"
      },
      "cell_type": "markdown",
      "source": [
        "## Visualize the scatterplot of `x` and `y` by passing `df` as the `data` argument to `sns.jointplot()`."
      ]
    },
    {
      "metadata": {
        "id": "G35TKBBVFzde",
        "colab_type": "code",
        "colab": {}
      },
      "cell_type": "code",
      "source": [
        "mean, cov = [0, 1], [(1, .25), (.25, 1)]\n",
        "data = np.random.multivariate_normal(mean, cov, 200)\n",
        "df = pd.DataFrame(data, columns=[\"x\", \"y\"])"
      ],
      "execution_count": 0,
      "outputs": []
    },
    {
      "metadata": {
        "id": "DEWZyog-Fzdk",
        "colab_type": "code",
        "colab": {}
      },
      "cell_type": "code",
      "source": [
        ""
      ],
      "execution_count": 0,
      "outputs": []
    },
    {
      "metadata": {
        "id": "-cMAsu_KFzdp",
        "colab_type": "text"
      },
      "cell_type": "markdown",
      "source": [
        "## Visualize all pair-wise interactions among columns by passing `df` to `sns.pairplot()`."
      ]
    },
    {
      "metadata": {
        "id": "uTz_7WYzFzdr",
        "colab_type": "code",
        "colab": {}
      },
      "cell_type": "code",
      "source": [
        ""
      ],
      "execution_count": 0,
      "outputs": []
    },
    {
      "metadata": {
        "id": "ehGJqJdDFzdx",
        "colab_type": "text"
      },
      "cell_type": "markdown",
      "source": [
        "## Create a visual count of the number of prices per country by passing the `prices DataFrame` to data and the `country` column as a string to `x` using `sns.countplot()`."
      ]
    },
    {
      "metadata": {
        "id": "iGO6Dnw1Fzdz",
        "colab_type": "code",
        "colab": {}
      },
      "cell_type": "code",
      "source": [
        "price_data = 'https://ga-instruction.s3.amazonaws.com/assets/Data%20Fundamentals/linked-csv-files/price_data.csv'\n",
        "prices = pd.read_csv(price_data)"
      ],
      "execution_count": 0,
      "outputs": []
    },
    {
      "metadata": {
        "id": "f4ldctm-Fzd5",
        "colab_type": "code",
        "colab": {}
      },
      "cell_type": "code",
      "source": [
        ""
      ],
      "execution_count": 0,
      "outputs": []
    },
    {
      "metadata": {
        "id": "EyGW9af8Fzd9",
        "colab_type": "text"
      },
      "cell_type": "markdown",
      "source": [
        "## Create a bar chart of the average price per country."
      ]
    },
    {
      "metadata": {
        "id": "ppxa9YUnFzd_",
        "colab_type": "code",
        "colab": {}
      },
      "cell_type": "code",
      "source": [
        ""
      ],
      "execution_count": 0,
      "outputs": []
    }
  ]
}