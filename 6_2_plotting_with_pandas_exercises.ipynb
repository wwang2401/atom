{
  "nbformat": 4,
  "nbformat_minor": 0,
  "metadata": {
    "colab": {
      "name": "6.2_plotting-with-pandas_exercises.ipynb",
      "version": "0.3.2",
      "provenance": [],
      "collapsed_sections": [],
      "include_colab_link": true
    },
    "kernelspec": {
      "name": "python3",
      "display_name": "Python 3"
    }
  },
  "cells": [
    {
      "cell_type": "markdown",
      "metadata": {
        "id": "view-in-github",
        "colab_type": "text"
      },
      "source": [
        "<a href=\"https://colab.research.google.com/github/wwang2401/atom/blob/master/6_2_plotting_with_pandas_exercises.ipynb\" target=\"_parent\"><img src=\"https://colab.research.google.com/assets/colab-badge.svg\" alt=\"Open In Colab\"/></a>"
      ]
    },
    {
      "metadata": {
        "id": "zjA-fzBtFv8T",
        "colab_type": "text"
      },
      "cell_type": "markdown",
      "source": [
        "## `Import Pandas as pd`\n",
        "## `%matplotlib inline`"
      ]
    },
    {
      "metadata": {
        "id": "5vAcgsafFv8W",
        "colab_type": "code",
        "colab": {}
      },
      "cell_type": "code",
      "source": [
        "import pandas as pd\n",
        "%matplotlib inline"
      ],
      "execution_count": 0,
      "outputs": []
    },
    {
      "metadata": {
        "id": "LaOPcHQ4JWOV",
        "colab_type": "code",
        "colab": {}
      },
      "cell_type": "code",
      "source": [
        ""
      ],
      "execution_count": 0,
      "outputs": []
    },
    {
      "metadata": {
        "id": "EeQvvTPrFv8o",
        "colab_type": "text"
      },
      "cell_type": "markdown",
      "source": [
        "## Load in the file `price_data.csv` into an object called `data`\n",
        "Look at its first few rows using `.head()`."
      ]
    },
    {
      "metadata": {
        "id": "QgKMlITiFv8r",
        "colab_type": "code",
        "colab": {}
      },
      "cell_type": "code",
      "source": [
        "price_data = 'https://ga-instruction.s3.amazonaws.com/assets/Data%20Fundamentals/linked-csv-files/price_data.csv'\n",
        "data = pd.read_csv(price_data)"
      ],
      "execution_count": 0,
      "outputs": []
    },
    {
      "metadata": {
        "id": "7UIHL8gjFv81",
        "colab_type": "text"
      },
      "cell_type": "markdown",
      "source": [
        "## Use `.plot()` on the entire `DataFrame`."
      ]
    },
    {
      "metadata": {
        "id": "Ko00C4dvFv83",
        "colab_type": "code",
        "colab": {}
      },
      "cell_type": "code",
      "source": [
        ""
      ],
      "execution_count": 0,
      "outputs": []
    },
    {
      "metadata": {
        "id": "kx6JNVinFv88",
        "colab_type": "text"
      },
      "cell_type": "markdown",
      "source": [
        "## Use `reset_index` to make a separate column out of the index."
      ]
    },
    {
      "metadata": {
        "id": "5bJCXwe-Fv8-",
        "colab_type": "code",
        "colab": {}
      },
      "cell_type": "code",
      "source": [
        ""
      ],
      "execution_count": 0,
      "outputs": []
    },
    {
      "metadata": {
        "id": "MnoLyYPQFv9C",
        "colab_type": "text"
      },
      "cell_type": "markdown",
      "source": [
        "## Make it a scatterplot by passing in `kind='scatter'`."
      ]
    },
    {
      "metadata": {
        "id": "Ogy0R-m6Fv9E",
        "colab_type": "code",
        "colab": {}
      },
      "cell_type": "code",
      "source": [
        ""
      ],
      "execution_count": 0,
      "outputs": []
    },
    {
      "metadata": {
        "id": "3QQ-xvgfFv9R",
        "colab_type": "text"
      },
      "cell_type": "markdown",
      "source": [
        "## Make it a histogram of prices by passing in `kind=\"hist\"` and `y=price`."
      ]
    },
    {
      "metadata": {
        "id": "_xB5j_3zFv9k",
        "colab_type": "code",
        "colab": {}
      },
      "cell_type": "code",
      "source": [
        ""
      ],
      "execution_count": 0,
      "outputs": []
    },
    {
      "metadata": {
        "id": "LBmvhg6JFv9o",
        "colab_type": "text"
      },
      "cell_type": "markdown",
      "source": [
        "## Use `.value_counts()` to count the number of entries per country in the `country` column and plot using `kind='bar'`."
      ]
    },
    {
      "metadata": {
        "id": "mBKCfL1pFv9p",
        "colab_type": "code",
        "colab": {}
      },
      "cell_type": "code",
      "source": [
        ""
      ],
      "execution_count": 0,
      "outputs": []
    },
    {
      "metadata": {
        "id": "_Vd2SwJ0Fv9t",
        "colab_type": "code",
        "colab": {}
      },
      "cell_type": "code",
      "source": [
        ""
      ],
      "execution_count": 0,
      "outputs": []
    },
    {
      "metadata": {
        "id": "ybAj08L2Fv9w",
        "colab_type": "code",
        "colab": {}
      },
      "cell_type": "code",
      "source": [
        ""
      ],
      "execution_count": 0,
      "outputs": []
    }
  ]
}